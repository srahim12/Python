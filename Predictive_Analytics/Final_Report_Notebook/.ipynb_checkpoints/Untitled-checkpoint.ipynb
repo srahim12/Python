{
 "cells": [
  {
   "cell_type": "code",
   "execution_count": null,
   "metadata": {},
   "outputs": [
    {
     "name": "stdout",
     "output_type": "stream",
     "text": [
      "Export IPython notebook to PDF\n",
      "    Please select a notebook:\n"
     ]
    }
   ],
   "source": [
    "# Script adapted from CloudCray\n",
    "# Original Source: https://gist.github.com/CloudCray/994dd361dece0463f64a\n",
    "# 2016--06-29\n",
    "# Run this script in the same folder as the notebook(s) you wish to convert\n",
    "# This will create both an HTML and a PDF file\n",
    "#\n",
    "# You'll need wkhtmltopdf (this will keep syntax highlighting, etc)\n",
    "#   http://wkhtmltopdf.org/downloads.html\n",
    "\n",
    "import subprocess\n",
    "import os\n",
    "from tkinter import Tk\n",
    "from tkinter import filedialog\n",
    "from tkinter import *\n",
    "\n",
    "\n",
    "WKHTMLTOPDF_PATH = \"C:/Program Files/wkhtmltopdf/bin/wkhtmltopdf\"  # or wherever you keep it\n",
    "\n",
    "def export_to_html(filename):\n",
    "    cmd = 'ipython nbconvert --to html \"{0}\"'\n",
    "    subprocess.call(cmd.format(filename), shell=True)\n",
    "    return filename.replace(\".ipynb\", \".html\")\n",
    "\n",
    "\n",
    "def convert_to_pdf(filename):\n",
    "    cmd = '\"{0}\" \"{1}\" \"{2}\"'.format(WKHTMLTOPDF_PATH, filename, filename.replace(\".html\", \".pdf\"))\n",
    "    subprocess.call(cmd, shell=True)\n",
    "    return filename.replace(\".html\", \".pdf\")\n",
    "\n",
    "\n",
    "def export_to_pdf(filename):\n",
    "    fn = export_to_html(filename)\n",
    "    return convert_to_pdf(fn)\n",
    "\n",
    "def main():\n",
    "    print(\"Export IPython notebook to PDF\")\n",
    "    print(\"    Please select a notebook:\")\n",
    "\n",
    "    Tk().withdraw() # Starts in folder from which it is started, keep the root window from appearing \n",
    "    x = filedialog.askopenfilename() # show an \"Open\" dialog box and return the path to the selected file\n",
    "    x = str(x.split(\"/\")[-1])\n",
    "\n",
    "    print(x)\n",
    "\n",
    "    if not x:\n",
    "        print(\"No notebook selected.\")\n",
    "        return 0\n",
    "    else:\n",
    "        fn = export_to_pdf(x)\n",
    "        print(\"File exported as:\\n\\t{0}\".format(fn))\n",
    "        return 1\n",
    "\n",
    "main()"
   ]
  },
  {
   "cell_type": "code",
   "execution_count": null,
   "metadata": {},
   "outputs": [],
   "source": []
  }
 ],
 "metadata": {
  "kernelspec": {
   "display_name": "Python 3",
   "language": "python",
   "name": "python3"
  },
  "language_info": {
   "codemirror_mode": {
    "name": "ipython",
    "version": 3
   },
   "file_extension": ".py",
   "mimetype": "text/x-python",
   "name": "python",
   "nbconvert_exporter": "python",
   "pygments_lexer": "ipython3",
   "version": "3.6.4"
  }
 },
 "nbformat": 4,
 "nbformat_minor": 2
}
